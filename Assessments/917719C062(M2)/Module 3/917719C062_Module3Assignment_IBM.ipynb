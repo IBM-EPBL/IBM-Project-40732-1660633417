{
  "nbformat": 4,
  "nbformat_minor": 0,
  "metadata": {
    "colab": {
      "provenance": [],
      "collapsed_sections": []
    },
    "kernelspec": {
      "name": "python3",
      "display_name": "Python 3"
    },
    "language_info": {
      "name": "python"
    }
  },
  "cells": [
    {
      "cell_type": "markdown",
      "source": [
        "IBM Module 3 Assignment  (**12/09/2022**)"
      ],
      "metadata": {
        "id": "iiz3riq8-gER"
      }
    },
    {
      "cell_type": "markdown",
      "source": [
        " -- Nitin Vinayak S (**917719C062**)"
      ],
      "metadata": {
        "id": "DJg9c5Mn--VQ"
      }
    },
    {
      "cell_type": "code",
      "execution_count": 2,
      "metadata": {
        "colab": {
          "base_uri": "https://localhost:8080/"
        },
        "id": "cs4yvk3f8DwT",
        "outputId": "5b15dc0b-a159-45bc-b6fc-2dd751aea394"
      },
      "outputs": [
        {
          "output_type": "stream",
          "name": "stdout",
          "text": [
            "Initial List : \n",
            "[9, 15, 20, 25]\n",
            "Inserting 4 at Index 2\n",
            "[9, 15, 4, 20, 25]\n",
            "Remove the First Occurence of 20 from the List\n",
            "[9, 15, 4, 25]\n",
            "Append 20 to the List\n",
            "[9, 15, 4, 25, 20]\n",
            "Sorted List\n",
            "[4, 9, 15, 20, 25]\n",
            "Pop from List\n",
            "[4, 9, 15, 20]\n",
            "Reversed List\n",
            "[20, 15, 9, 4]\n"
          ]
        }
      ],
      "source": [
        "\"\"\"\n",
        "Consider a list (list = []) \n",
        "\n",
        "You can perform the following commands:\n",
        "  insert i.e. Insert integer  at position .\n",
        "  print: Print the list.\n",
        "  remove e: Delete the first occurrence of integer .\n",
        "  append e: Insert integer  at the end of the list.\n",
        "  sort: Sort the list.\n",
        "  pop: Pop the last element from the list.\n",
        "  reverse: Reverse the list.\n",
        "\n",
        "Initialize your list and read in the value of  followed by  lines of commands where each command will be of the  types listed above. \n",
        "Iterate through each command in order and perform the corresponding operation on your list.\n",
        "\"\"\"\n",
        "\n",
        "def print_list(list,operation):\n",
        "    print(operation)\n",
        "    print(list)\n",
        "\n",
        "list = [9, 15, 20, 25]\n",
        "print_list(list,\"Initial List : \")\n",
        "\n",
        "list.insert(2, 4)\n",
        "print_list(list,\"Inserting 4 at Index 2\")\n",
        "\n",
        "list.remove(20)\n",
        "print_list(list,\"Remove the First Occurence of 20 from the List\")\n",
        "\n",
        "list.append(20)\n",
        "print_list(list,\"Append 20 to the List\")\n",
        "\n",
        "list.sort()\n",
        "print_list(list,\"Sorted List\")\n",
        "\n",
        "list.pop()\n",
        "print_list(list,\"Pop from List\")\n",
        "\n",
        "list.reverse()\n",
        "print_list(list,\"Reversed List\")"
      ]
    },
    {
      "cell_type": "markdown",
      "source": [
        "\n",
        "________________________________________________________________________________"
      ],
      "metadata": {
        "id": "75JeyEm3FQI5"
      }
    },
    {
      "cell_type": "code",
      "source": [
        "\"\"\" Calculator Program in Python \"\"\"\n",
        "\n",
        "def add(P, Q):      \n",
        "   return P + Q   \n",
        "\n",
        "def subtract(P, Q):   \n",
        "   return P - Q  \n",
        "\n",
        "def multiply(P, Q):     \n",
        "   return P * Q  \n",
        "\n",
        "def divide(P, Q):     \n",
        "   return P / Q   \n",
        "  \n",
        "num1 = int (input (\"First Number : \"))    \n",
        "num2 = int (input (\"Second Number : \"))\n",
        "\n",
        "print (\"Select the Operation\")    \n",
        "print (\"(a) Addition\")    \n",
        "print (\"(b) Subtraction\")    \n",
        "print (\"(c) Multiplication\")    \n",
        "print (\"(d) Division\")          \n",
        "\n",
        "choice = input(\"Enter the Operation you want to Perform : \") \n",
        "    \n",
        "if choice == 'a'or choice == 'A':    \n",
        "   print (num1, \" + \", num2, \" = \", add(num1, num2))    \n",
        "    \n",
        "elif choice == 'b'or choice == 'B':    \n",
        "   print (num1, \" - \", num2, \" = \", subtract(num1, num2))    \n",
        "    \n",
        "elif choice == 'c'or choice == 'C':    \n",
        "   print (num1, \" * \", num2, \" = \", multiply(num1, num2))  \n",
        "\n",
        "elif choice == 'd'or choice == 'D':    \n",
        "   print (num1, \" / \", num2, \" = \", divide(num1, num2))    \n",
        "else:    \n",
        "   print (\"Invalid Input\")   "
      ],
      "metadata": {
        "colab": {
          "base_uri": "https://localhost:8080/"
        },
        "id": "5pRePkmPCBcx",
        "outputId": "60c4c2c4-88ee-4d3e-c463-f92a2b43ea02"
      },
      "execution_count": 4,
      "outputs": [
        {
          "output_type": "stream",
          "name": "stdout",
          "text": [
            "First Number : 14\n",
            "Second Number : 7\n",
            "Select the Operation\n",
            "(a) Addition\n",
            "(b) Subtraction\n",
            "(c) Multiplication\n",
            "(d) Division\n",
            "Enter the Operation you want to Perform : A\n",
            "14  +  7  =  21\n"
          ]
        }
      ]
    },
    {
      "cell_type": "markdown",
      "source": [
        "________________________________________________________________________________"
      ],
      "metadata": {
        "id": "u334cA2bFUmT"
      }
    },
    {
      "cell_type": "code",
      "source": [
        "\"\"\" Python Program to Reverse, Concatenate and Slice a String \"\"\"\n",
        "\n",
        "firstName = input(\"Enter you First Name : \")\n",
        "lastName = input(\"Enter your Last Name : \")\n",
        "\n",
        "fullName = firstName + lastName\n",
        "\n",
        "print(\"Concatenation : \" + fullName) # Concatenation\n",
        "print(\"Reverse : \" + fullName[::-1]) # Reversing\n",
        "print(\"Slicing : \" + fullName[0:5]) # Slicing"
      ],
      "metadata": {
        "colab": {
          "base_uri": "https://localhost:8080/"
        },
        "id": "-ZWS6GscDSqN",
        "outputId": "f0ef8665-2157-4733-908d-c2bfe0d07e95"
      },
      "execution_count": 9,
      "outputs": [
        {
          "output_type": "stream",
          "name": "stdout",
          "text": [
            "Enter you First Name : NITIN \n",
            "Enter your Last Name : VINAYAK\n",
            "Concatenation : NITIN VINAYAK\n",
            "Reverse : KAYANIV NITIN\n",
            "Slicing : NITIN\n"
          ]
        }
      ]
    },
    {
      "cell_type": "markdown",
      "source": [
        "________________________________________________________________________________"
      ],
      "metadata": {
        "id": "vvfu6YbWFV16"
      }
    },
    {
      "cell_type": "markdown",
      "source": [
        "Why is Python a popular Programming Language ?\n",
        "\n",
        "\n",
        "\n",
        "> Due to its ease of learning and usage, Python codes can easily be written and executed much faster than other programming languages. One of the main reasons why Python's popularity has exponentially grown is due to its simplicity in syntax so that it could be easy to read and developed by amateur professionals as well.\n",
        "\n",
        "\n",
        "\n",
        "- It’s one of the best languages when learning to code\n",
        "- Python is heavily used in the Internet of Things\n",
        "- Python is instrumental in Data Science and Artificial Intelligence\n",
        "- Python is versatile for Web Development"
      ],
      "metadata": {
        "id": "6dZefmrLFILB"
      }
    },
    {
      "cell_type": "markdown",
      "source": [
        "________________________________________________________________________________"
      ],
      "metadata": {
        "id": "8IxIXrDhFW8g"
      }
    },
    {
      "cell_type": "markdown",
      "source": [
        "Other Frameworks that can be used with Python : \n",
        "\n",
        "- Django\n",
        "- Flask\n",
        "- Pyramid\n"
      ],
      "metadata": {
        "id": "uEpebV4GFXa5"
      }
    },
    {
      "cell_type": "markdown",
      "source": [
        "________________________________________________________________________________"
      ],
      "metadata": {
        "id": "ia2fjm7FFXyz"
      }
    },
    {
      "cell_type": "markdown",
      "source": [
        "WSGI : Web Server Gateway Interface"
      ],
      "metadata": {
        "id": "eGai_CBFFYYx"
      }
    },
    {
      "cell_type": "markdown",
      "source": [
        "________________________________________________________________________________"
      ],
      "metadata": {
        "id": "AnaxtNIHFYwY"
      }
    }
  ]
}