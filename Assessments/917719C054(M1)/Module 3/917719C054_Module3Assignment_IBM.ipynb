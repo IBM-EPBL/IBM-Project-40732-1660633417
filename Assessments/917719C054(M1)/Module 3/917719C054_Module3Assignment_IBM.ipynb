{
 "cells": [
  {
   "cell_type": "markdown",
   "id": "b0135ed0",
   "metadata": {},
   "source": [
    "Module 3 : Python Assignment\n",
    "\n",
    " "
   ]
  },
  {
   "cell_type": "code",
   "execution_count": 8,
   "id": "bd5ada55",
   "metadata": {},
   "outputs": [
    {
     "name": "stdout",
     "output_type": "stream",
     "text": [
      "Initial list\n",
      "[1, 3, 1.5]\n",
      "Insert 2 at index 1\n",
      "[1, 2, 3, 1.5]\n",
      "Remove 1st occurence of 1.5\n",
      "[1, 2, 3]\n",
      "Append 1.5\n",
      "[1, 2, 3, 1.5]\n",
      "Sort the list\n",
      "[1, 1.5, 2, 3]\n",
      "Pop from list\n",
      "[1, 1.5, 2]\n",
      "Reverse list\n",
      "[2, 1.5, 1]\n"
     ]
    }
   ],
   "source": [
    "\"\"\"\n",
    "Consider a list (list = []). You can perform the following commands:\n",
    "insert i e: Insert integer  at position .\n",
    "print: Print the list.\n",
    "remove e: Delete the first occurrence of integer .\n",
    "append e: Insert integer  at the end of the list.\n",
    "sort: Sort the list.\n",
    "pop: Pop the last element from the list.\n",
    "reverse: Reverse the list.\n",
    "Initialize your list and read in the value of  followed by  lines of commands where each command will be of the  types listed above. Iterate through each command in order and perform the corresponding operation on your list.\n",
    "\n",
    "\"\"\"\n",
    "\n",
    "def print_list(list,operation):\n",
    "    print(operation)\n",
    "    print(list)\n",
    "\n",
    "list = [1,3,1.5]\n",
    "print_list(list,\"Initial list\")\n",
    "\n",
    "list.insert(1,2)\n",
    "print_list(list,\"Insert 2 at index 1\")\n",
    "\n",
    "list.remove(1.5)\n",
    "print_list(list,\"Remove 1st occurence of 1.5\")\n",
    "\n",
    "list.append(1.5)\n",
    "print_list(list,\"Append 1.5\")\n",
    "\n",
    "list.sort()\n",
    "print_list(list,\"Sort the list\")\n",
    "\n",
    "list.pop()\n",
    "print_list(list,\"Pop from list\")\n",
    "\n",
    "list.reverse()\n",
    "print_list(list,\"Reverse list\")\n",
    "\n",
    "\n"
   ]
  },
  {
   "cell_type": "code",
   "execution_count": 9,
   "id": "d91ee5fb",
   "metadata": {},
   "outputs": [
    {
     "name": "stdout",
     "output_type": "stream",
     "text": [
      "Please select the operation.\n",
      "a. Add\n",
      "b. Subtract\n",
      "c. Multiply\n",
      "d. Divide\n",
      "Please enter choice (a/ b/ c/ d): a\n",
      "Please enter the first number: 12\n",
      "Please enter the second number: 13\n",
      "12  +  13  =  25\n"
     ]
    }
   ],
   "source": [
    "#Write a Calculator program in Python?\n",
    "\n",
    "def add(P, Q):    \n",
    "   # This function is used for adding two numbers   \n",
    "   return P + Q   \n",
    "def subtract(P, Q):   \n",
    "   # This function is used for subtracting two numbers   \n",
    "   return P - Q   \n",
    "def multiply(P, Q):   \n",
    "   # This function is used for multiplying two numbers   \n",
    "   return P * Q   \n",
    "def divide(P, Q):   \n",
    "   # This function is used for dividing two numbers    \n",
    "   return P / Q    \n",
    "# Now we will take inputs from the user    \n",
    "print (\"Please select the operation.\")    \n",
    "print (\"a. Add\")    \n",
    "print (\"b. Subtract\")    \n",
    "print (\"c. Multiply\")    \n",
    "print (\"d. Divide\")    \n",
    "    \n",
    "choice = input(\"Please enter choice (a/ b/ c/ d): \")    \n",
    "    \n",
    "num_1 = int (input (\"Please enter the first number: \"))    \n",
    "num_2 = int (input (\"Please enter the second number: \"))    \n",
    "    \n",
    "if choice == 'a':    \n",
    "   print (num_1, \" + \", num_2, \" = \", add(num_1, num_2))    \n",
    "    \n",
    "elif choice == 'b':    \n",
    "   print (num_1, \" - \", num_2, \" = \", subtract(num_1, num_2))    \n",
    "    \n",
    "elif choice == 'c':    \n",
    "   print (num1, \" * \", num2, \" = \", multiply(num1, num2))    \n",
    "elif choice == 'd':    \n",
    "   print (num_1, \" / \", num_2, \" = \", divide(num_1, num_2))    \n",
    "else:    \n",
    "   print (\"This is an invalid input\")    "
   ]
  },
  {
   "cell_type": "code",
   "execution_count": 11,
   "id": "53873733",
   "metadata": {},
   "outputs": [
    {
     "name": "stdout",
     "output_type": "stream",
     "text": [
      "MARYADA LODHA\n",
      "AHDOL ADAYRAM\n",
      "MARYADA\n"
     ]
    }
   ],
   "source": [
    "#Write a prografrom audioop import reverse\n",
    "\n",
    "\n",
    "firstname=\"MARYADA \"\n",
    "lastname=\"LODHA\"\n",
    "name=firstname+lastname\n",
    "print(name)\n",
    "print(name[::-1])\n",
    "print(name[0:7])\n"
   ]
  },
  {
   "cell_type": "markdown",
   "id": "d4495696",
   "metadata": {},
   "source": [
    "Why is Python a popular programming language?\n",
    "\n",
    "Due to its ease of learning and usage, Python codes can easily be written and executed much faster than other programming languages. One of the main reasons why Python's popularity has exponentially grown is due to its simplicity in syntax so that it could be easy to read and developed by amateur professionals as well."
   ]
  },
  {
   "cell_type": "markdown",
   "id": "f145ebd8",
   "metadata": {},
   "source": [
    "What are the other Frameworks that can be used with python?\n",
    "Django\n",
    "Pyramid\n",
    "Flask\n",
    "CherryPy\n",
    "ETC"
   ]
  },
  {
   "cell_type": "markdown",
   "id": "ee4b7b11",
   "metadata": {},
   "source": [
    "Full form of WSGI?\n",
    "Web Server Gateway Interface"
   ]
  }
 ],
 "metadata": {
  "kernelspec": {
   "display_name": "Python 3 (ipykernel)",
   "language": "python",
   "name": "python3"
  },
  "language_info": {
   "codemirror_mode": {
    "name": "ipython",
    "version": 3
   },
   "file_extension": ".py",
   "mimetype": "text/x-python",
   "name": "python",
   "nbconvert_exporter": "python",
   "pygments_lexer": "ipython3",
   "version": "3.9.12"
  }
 },
 "nbformat": 4,
 "nbformat_minor": 5
}
